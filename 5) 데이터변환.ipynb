{
 "cells": [
  {
   "cell_type": "code",
   "execution_count": null,
   "id": "63692bc7",
   "metadata": {},
   "outputs": [],
   "source": [
    "from numpy import nan as NA\n",
    "from pandas import DataFrame\n",
    "import pandas as pd\n",
    "import numpy as np\n",
    "import seaborn as sns\n",
    "sns.set(color_codes=True)\n",
    "from mpl_toolkits.mplot3d import Axes3D\n",
    "import matplotlib.pyplot as plt\n",
    "%matplotlib inline\n",
    "%config InlineBackend.figure_format = 'retina'"
   ]
  },
  {
   "cell_type": "code",
   "execution_count": null,
   "id": "8e3978c7",
   "metadata": {},
   "outputs": [],
   "source": [
    "df = pd.DataFrame({\n",
    "    'x1': np.random.normal(0, 2,  10000),\n",
    "    'x2': np.random.normal(5, 3,  10000),\n",
    "    'x3': np.random.normal(-5, 5, 10000)\n",
    "})\n",
    "df.plot.kde()"
   ]
  },
  {
   "cell_type": "code",
   "execution_count": null,
   "id": "75486fbf",
   "metadata": {},
   "outputs": [],
   "source": [
    "from sklearn.preprocessing import *\n",
    "standardscaler = StandardScaler()\n",
    "data_tf = standardscaler.fit_transform(df)\n",
    "# data_tf = StandardScaler().fit_transform(df)\n",
    "\n",
    "df = pd.DataFrame(data_tf, columns=['x1','x2','x3'])\n",
    "df.plot.kde()"
   ]
  },
  {
   "cell_type": "code",
   "execution_count": null,
   "id": "d88effa5",
   "metadata": {},
   "outputs": [],
   "source": [
    "data_tf = MinMaxScaler().fit_transform(df)\n",
    "df = pd.DataFrame(data_tf, columns=['x1','x2','x3'])\n",
    "df.plot.kde()"
   ]
  },
  {
   "cell_type": "code",
   "execution_count": null,
   "id": "bad26464",
   "metadata": {},
   "outputs": [],
   "source": [
    "data_tf = MaxAbsScaler().fit_transform(df)\n",
    "df = pd.DataFrame(data_tf, columns=['x1','x2','x3'])\n",
    "df.plot.kde()"
   ]
  },
  {
   "cell_type": "code",
   "execution_count": null,
   "id": "64122541",
   "metadata": {},
   "outputs": [],
   "source": [
    "data_tf = RobustScaler().fit_transform(df)\n",
    "df = pd.DataFrame(data_tf, columns=['x1','x2','x3'])\n",
    "df.plot.kde()"
   ]
  },
  {
   "cell_type": "code",
   "execution_count": null,
   "id": "3d98c12a",
   "metadata": {},
   "outputs": [],
   "source": [
    "df = pd.DataFrame({  ## 왜도 첨도\n",
    "    'x1': np.random.chisquare(8, 1000),    # positive skew\n",
    "    'x2': np.random.beta(8, 2, 1000) * 40, # negative skew \n",
    "    'x3': np.random.normal(50, 3, 1000)    # no skew\n",
    "})\n",
    "df.plot.kde()"
   ]
  },
  {
   "cell_type": "code",
   "execution_count": null,
   "id": "ee5d2eb5",
   "metadata": {},
   "outputs": [],
   "source": [
    "data_tf = StandardScaler().fit_transform(df)\n",
    "df = pd.DataFrame(data_tf, columns=['x1','x2','x3'])\n",
    "df.plot.kde()"
   ]
  },
  {
   "cell_type": "code",
   "execution_count": null,
   "id": "5ba0db09",
   "metadata": {},
   "outputs": [],
   "source": [
    "data_tf = MinMaxScaler().fit_transform(df)\n",
    "df = pd.DataFrame(data_tf, columns=['x1','x2','x3'])\n",
    "df.plot.kde()"
   ]
  },
  {
   "cell_type": "code",
   "execution_count": null,
   "id": "b8bf238e",
   "metadata": {},
   "outputs": [],
   "source": [
    "data_tf = MaxAbsScaler().fit_transform(df)\n",
    "df = pd.DataFrame(data_tf, columns=['x1','x2','x3'])\n",
    "df.plot.kde()"
   ]
  },
  {
   "cell_type": "code",
   "execution_count": null,
   "id": "36605702",
   "metadata": {},
   "outputs": [],
   "source": [
    "data_tf = RobustScaler().fit_transform(df)\n",
    "df = pd.DataFrame(data_tf, columns=['x1','x2','x3'])\n",
    "df.plot.kde()"
   ]
  },
  {
   "cell_type": "code",
   "execution_count": null,
   "id": "78107b54",
   "metadata": {},
   "outputs": [],
   "source": [
    "np.random.normal(1, 1, 25)  ##정규분포"
   ]
  },
  {
   "cell_type": "code",
   "execution_count": null,
   "id": "06032b48",
   "metadata": {},
   "outputs": [],
   "source": [
    "np.random.standard_t()"
   ]
  },
  {
   "cell_type": "code",
   "execution_count": null,
   "id": "0f2d2fac",
   "metadata": {},
   "outputs": [],
   "source": [
    "np.concatenate([np.random.normal(20, 1, 1000), np.random.normal(1, 1, 25)])"
   ]
  },
  {
   "cell_type": "code",
   "execution_count": null,
   "id": "c48dfb14",
   "metadata": {},
   "outputs": [],
   "source": [
    "df = pd.DataFrame({\n",
    "    # Distribution with lower outliers\n",
    "    'x1': np.concatenate([np.random.normal(20, 1, 1000), \n",
    "                          np.random.normal(1, 1, 25)]),\n",
    "    # Distribution with higher outliers\n",
    "    'x2': np.concatenate([np.random.normal(30, 1, 1000), \n",
    "                          np.random.normal(50, 1, 25)]),\n",
    "})\n",
    "df.plot.kde()"
   ]
  },
  {
   "cell_type": "code",
   "execution_count": null,
   "id": "0346a08b",
   "metadata": {},
   "outputs": [],
   "source": [
    "data_tf = StandardScaler().fit_transform(df)\n",
    "df = pd.DataFrame(data_tf, columns=['x1','x2'])\n",
    "df.plot.kde()\n",
    "\n",
    "data_tf = MinMaxScaler().fit_transform(df)\n",
    "df = pd.DataFrame(data_tf, columns=['x1','x2'])\n",
    "df.plot.kde()\n",
    "\n",
    "data_tf = MaxAbsScaler().fit_transform(df)\n",
    "df = pd.DataFrame(data_tf, columns=['x1','x2'])\n",
    "df.plot.kde()\n",
    "\n",
    "data_tf = RobustScaler().fit_transform(df)\n",
    "df = pd.DataFrame(data_tf, columns=['x1','x2'])\n",
    "df.plot.kde()"
   ]
  },
  {
   "cell_type": "code",
   "execution_count": 1,
   "id": "ffaf7f3a",
   "metadata": {},
   "outputs": [
    {
     "name": "stdout",
     "output_type": "stream",
     "text": [
      "   hour  attendance  library  score\n",
      "0     2           1        0      3\n",
      "1     3           2        0      5\n",
      "2     3           4        0      7\n",
      "3     5           5        0     10\n",
      "4     7           5        0     12\n",
      "5     2           5        0      7\n",
      "6     8           9        1     13\n",
      "7     9          10        3     13\n",
      "8     6          12        0     12\n",
      "   hour  attendance  library  score\n",
      "0     9           2        1     13\n",
      "1     6          10        0     12\n",
      "2     2           4        0      6\n"
     ]
    }
   ],
   "source": [
    "## 정규 분포로 변환 : 분포도 그려보고 치우친 분포면 정규 분포로 변환\n",
    "\n",
    "import pandas as pd\n",
    "from sklearn.preprocessing import PowerTransformer\n",
    "from sklearn.compose import make_column_transformer\n",
    "import matplotlib.pyplot as plt\n",
    "import seaborn as sns\n",
    "\n",
    "##########데이터 로드\n",
    "train_df = pd.DataFrame([\n",
    "    [2, 1, 0, 3],    [3, 2, 0, 5],    [3, 4, 0, 7],    [5, 5, 0, 10],    [7, 5, 0, 12],    [2, 5, 0, 7],\n",
    "    [8, 9, 1, 13],   [9, 10, 3, 13],  [6, 12, 0, 12]], columns=['hour', 'attendance', 'library', 'score'])\n",
    "test_df = pd.DataFrame([\n",
    "    [9, 2, 1, 13],    [6, 10, 0, 12],    [2, 4, 0, 6]], columns=['hour', 'attendance', 'library', 'score'])\n",
    "\n",
    "print(train_df) \n",
    "print(test_df) "
   ]
  },
  {
   "cell_type": "code",
   "execution_count": 2,
   "id": "0f822501",
   "metadata": {},
   "outputs": [
    {
     "data": {
      "image/png": "[encoded data removed]",
      "text/plain": [
       "<Figure size 720x720 with 20 Axes>"
      ]
     },
     "metadata": {
      "needs_background": "light"
     },
     "output_type": "display_data"
    }
   ],
   "source": [
    "##########데이터 분석\n",
    "sns.pairplot(data=train_df, diag_kind='hist')\n",
    "plt.show()"
   ]
  },
  {
   "cell_type": "code",
   "execution_count": 3,
   "id": "7d12412c",
   "metadata": {},
   "outputs": [
    {
     "name": "stdout",
     "output_type": "stream",
     "text": [
      "[[-0.53415073  2.          1.        ]\n",
      " [-0.53415073  3.          2.        ]\n",
      " [-0.53415073  3.          4.        ]\n",
      " [-0.53415073  5.          5.        ]\n",
      " [-0.53415073  7.          5.        ]\n",
      " [-0.53415073  2.          5.        ]\n",
      " [ 1.79042453  8.          9.        ]\n",
      " [ 1.94863055  9.         10.        ]\n",
      " [-0.53415073  6.         12.        ]]\n",
      "[[ 1.79042453  9.          2.        ]\n",
      " [-0.53415073  6.         10.        ]\n",
      " [-0.53415073  2.          4.        ]]\n",
      "[ 3  5  7 10 12  7 13 13 12]\n",
      "[13 12  6]\n"
     ]
    }
   ],
   "source": [
    "##########데이터 전처리\n",
    "x_train_df = train_df.drop(['score'], axis=1)\n",
    "x_test_df = test_df.drop(['score'], axis=1)\n",
    "y_train_df = train_df['score']\n",
    "y_test_df = test_df['score']\n",
    "\n",
    "transformer = make_column_transformer((PowerTransformer(), ['library']),remainder='passthrough')\n",
    "transformer.fit(x_train_df)\n",
    "x_train = transformer.transform(x_train_df)\n",
    "x_test = transformer.transform(x_test_df)\n",
    "\n",
    "y_train = y_train_df.to_numpy()\n",
    "y_test = y_test_df.to_numpy()\n",
    "\n",
    "print(x_train)\n",
    "print(x_test)\n",
    "print(y_train) \n",
    "print(y_test) "
   ]
  },
  {
   "cell_type": "code",
   "execution_count": 4,
   "id": "202dc3ed",
   "metadata": {},
   "outputs": [
    {
     "data": {
      "image/png": "[encoded data removed]",
      "text/plain": [
       "<Figure size 720x720 with 20 Axes>"
      ]
     },
     "metadata": {
      "needs_background": "light"
     },
     "output_type": "display_data"
    }
   ],
   "source": [
    "sns.pairplot(data=pd.DataFrame({'hour':x_train[:, 0], \n",
    "                                'attendance':x_train[:, 1], 'library':x_train[:, 2], 'score':y_train}, \n",
    "                               columns=['hour', 'attendance', 'library', 'score']), diag_kind='hist')\n",
    "plt.show()"
   ]
  },
  {
   "cell_type": "code",
   "execution_count": null,
   "id": "4bc9936c",
   "metadata": {},
   "outputs": [],
   "source": []
  },
  {
   "cell_type": "code",
   "execution_count": null,
   "id": "ab5388f3",
   "metadata": {},
   "outputs": [],
   "source": []
  },
  {
   "cell_type": "code",
   "execution_count": null,
   "id": "00f9e739",
   "metadata": {},
   "outputs": [],
   "source": []
  }
 ],
 "metadata": {
  "kernelspec": {
   "display_name": "Python 3",
   "language": "python",
   "name": "python3"
  },
  "language_info": {
   "codemirror_mode": {
    "name": "ipython",
    "version": 3
   },
   "file_extension": ".py",
   "mimetype": "text/x-python",
   "name": "python",
   "nbconvert_exporter": "python",
   "pygments_lexer": "ipython3",
   "version": "3.8.8"
  }
 },
 "nbformat": 4,
 "nbformat_minor": 5
}
