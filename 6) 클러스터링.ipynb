{
 "cells": [
  {
   "cell_type": "code",
   "execution_count": null,
   "id": "2401ad37",
   "metadata": {},
   "outputs": [],
   "source": [
    "import platform\n",
    "import matplotlib\n",
    "from matplotlib import font_manager, rc\n",
    "\n",
    "# '-' 기호 보이게 하기\n",
    "matplotlib.rcParams['axes.unicode_minus'] = False\n",
    "\n",
    "# 운영 체제마다 한글이 보이게 하는 설정\n",
    "# 윈도우\n",
    "if platform.system() == 'Windows':\n",
    "    path = \"c:\\Windows\\Fonts\\malgun.ttf\"\n",
    "    font_name = font_manager.FontProperties(fname=path).get_name()\n",
    "    rc('font', family=font_name)\n",
    "# 맥\n",
    "elif platform.system() == 'Darwin':\n",
    "    rc('font', family='AppleGothic')\n",
    "# 리눅스\n",
    "elif platform.system() == 'Linux':\n",
    "    rc('font', family='NanumBarunGothic')"
   ]
  },
  {
   "cell_type": "code",
   "execution_count": null,
   "id": "5954eee1",
   "metadata": {},
   "outputs": [],
   "source": [
    "import pandas as pd\n",
    "import numpy as np\n",
    "import matplotlib.pyplot as plt\n",
    "%matplotlib inline\n",
    "%config InlineBackend.figure_format = 'retina'"
   ]
  },
  {
   "cell_type": "code",
   "execution_count": null,
   "id": "48693abb",
   "metadata": {},
   "outputs": [],
   "source": [
    "power_data = pd.read_excel('data/시도별_용도별.xls')\n",
    "print(power_data.shape)"
   ]
  },
  {
   "cell_type": "code",
   "execution_count": null,
   "id": "685499a6",
   "metadata": {},
   "outputs": [],
   "source": [
    "power_data.head().T"
   ]
  },
  {
   "cell_type": "code",
   "execution_count": null,
   "id": "039dbfa6",
   "metadata": {},
   "outputs": [],
   "source": [
    "power = power_data.set_index('구분')\n",
    "power = power.drop(['합계', '개성'], errors='ignore')"
   ]
  },
  {
   "cell_type": "code",
   "execution_count": null,
   "id": "b82de56c",
   "metadata": {},
   "outputs": [],
   "source": [
    "see2 = [ '서비스업','제조업']\n",
    "power[see2].plot(kind='barh', figsize=(10,6), stacked=True)"
   ]
  },
  {
   "cell_type": "code",
   "execution_count": null,
   "id": "3a32b8cb",
   "metadata": {},
   "outputs": [],
   "source": [
    "power = power[['서비스업', '제조업']]\n",
    "power.head(5)"
   ]
  },
  {
   "cell_type": "code",
   "execution_count": null,
   "id": "dfa27d7c",
   "metadata": {},
   "outputs": [],
   "source": [
    "power = power.drop(['경기', '서울'])\n",
    "n_samples = power.shape[0] ; n_samples"
   ]
  },
  {
   "cell_type": "code",
   "execution_count": null,
   "id": "502b22a9",
   "metadata": {},
   "outputs": [],
   "source": [
    "plt.figure(figsize=(4,4))\n",
    "plt.scatter(power['서비스업'], power['제조업'],c='k',marker='o')\n",
    "plt.xlabel('서비스업')\n",
    "plt.ylabel('제조업')\n",
    "\n",
    "for n in range(power.shape[0]):\n",
    "    plt.text(power['서비스업'][n]*1.03, power['제조업'][n]*0.98, power.index[n])"
   ]
  },
  {
   "cell_type": "markdown",
   "id": "5f622bfa",
   "metadata": {},
   "source": [
    "## 덴드로그램"
   ]
  },
  {
   "cell_type": "code",
   "execution_count": null,
   "id": "d74268c8",
   "metadata": {},
   "outputs": [],
   "source": [
    "from scipy.cluster.hierarchy import dendrogram, linkage\n",
    "\n",
    "plt.figure(figsize=(6, 3))\n",
    "link_dist = linkage(power, metric='euclidean', method='ward')  \n",
    "\n",
    "dendrogram(link_dist, labels=power.index)\n",
    "plt.show()"
   ]
  },
  {
   "cell_type": "code",
   "execution_count": null,
   "id": "c0cb24e3",
   "metadata": {},
   "outputs": [],
   "source": [
    "from sklearn.preprocessing import *\n",
    "power[['서비스업','제조업']]= StandardScaler().fit_transform(power[['서비스업', '제조업']])\n",
    "#power\n",
    "\n",
    "link_dist = linkage(power, metric='euclidean', method='ward')  \n",
    "dendrogram(link_dist, labels=power.index)\n",
    "plt.show()"
   ]
  },
  {
   "cell_type": "code",
   "execution_count": null,
   "id": "64245229",
   "metadata": {
    "scrolled": true
   },
   "outputs": [],
   "source": [
    "from sklearn.preprocessing import *\n",
    "power[['서비스업','제조업']] = MinMaxScaler().fit_transform(power[['서비스업', '제조업']])\n",
    "#power\n",
    "\n",
    "link_dist = linkage(power, metric='euclidean', method='ward')  \n",
    "dendrogram(link_dist, labels=power.index)\n",
    "plt.show()"
   ]
  },
  {
   "cell_type": "code",
   "execution_count": null,
   "id": "ff33a5b3",
   "metadata": {},
   "outputs": [],
   "source": [
    "from sklearn.preprocessing import *\n",
    "power[['서비스업','제조업']]   = MaxAbsScaler().fit_transform(power[['서비스업', '제조업']])\n",
    "#power\n",
    "\n",
    "link_dist = linkage(power, metric='euclidean', method='ward')  \n",
    "dendrogram(link_dist, labels=power.index)\n",
    "plt.show()"
   ]
  },
  {
   "cell_type": "code",
   "execution_count": null,
   "id": "fba2c98b",
   "metadata": {},
   "outputs": [],
   "source": [
    "from sklearn.preprocessing import *\n",
    "power[['서비스업','제조업']]= RobustScaler().fit_transform(power[['서비스업', '제조업']])\n",
    "#power\n",
    "\n",
    "link_dist = linkage(power, metric='euclidean', method='ward')  \n",
    "dendrogram(link_dist, labels=power.index)\n",
    "plt.show()"
   ]
  },
  {
   "cell_type": "markdown",
   "id": "179df1e9",
   "metadata": {},
   "source": [
    "# Kmeans"
   ]
  },
  {
   "cell_type": "code",
   "execution_count": null,
   "id": "80c251fa",
   "metadata": {},
   "outputs": [],
   "source": [
    "from sklearn.cluster import KMeans\n",
    "k = KMeans(n_clusters=3).fit(power)\n",
    "print(k.n_clusters)"
   ]
  },
  {
   "cell_type": "code",
   "execution_count": null,
   "id": "f07ce240",
   "metadata": {},
   "outputs": [],
   "source": [
    "k = KMeans(n_clusters=4).fit(power)\n",
    "print(k.n_clusters)"
   ]
  },
  {
   "cell_type": "code",
   "execution_count": null,
   "id": "26d68fcf",
   "metadata": {},
   "outputs": [],
   "source": [
    "power['클러스터'] = k.labels_  ##그룹명\n",
    "power.head(4)"
   ]
  },
  {
   "cell_type": "code",
   "execution_count": null,
   "id": "8d5790d9",
   "metadata": {},
   "outputs": [],
   "source": [
    "power.drop('클러스터', axis = 1, inplace=True) ; \n",
    "power.head()"
   ]
  },
  {
   "cell_type": "code",
   "execution_count": null,
   "id": "787f8da6",
   "metadata": {},
   "outputs": [],
   "source": [
    "centers = k.cluster_centers_  #그룹의 중심좌표를 확인\n",
    "centers"
   ]
  },
  {
   "cell_type": "code",
   "execution_count": null,
   "id": "596de721",
   "metadata": {},
   "outputs": [],
   "source": [
    "my_markers=['*','^', 'o','^','.',',','1','2']\n",
    "my_color =['r','c','g','b','g','k','r','y']\n",
    "plt.figure(figsize=(5, 4))\n",
    "plt.xlabel('서비스업')\n",
    "plt.ylabel('제조업')\n",
    "\n",
    "for n in range(power.shape[0]):\n",
    "    label = k.labels_[n]\n",
    "    plt.scatter(power['서비스업'][n], power['제조업'][n], c=my_color[label], \n",
    "                marker=my_markers[label], s=100)\n",
    "    \n",
    "    plt.text(power['서비스업'][n]*1.03, power['제조업'][n]*0.98, power.index[n])\n",
    "    \n",
    "for i in range(k.n_clusters):\n",
    "    plt.scatter(centers[i][0], centers[i][1], c = 'k', s= 100)"
   ]
  },
  {
   "cell_type": "code",
   "execution_count": null,
   "id": "994f8616",
   "metadata": {},
   "outputs": [],
   "source": [
    "power_data.head().T"
   ]
  },
  {
   "cell_type": "code",
   "execution_count": null,
   "id": "57a09ac9",
   "metadata": {},
   "outputs": [],
   "source": [
    "power2 = power_data.set_index('구분')\n",
    "power2.drop(['업무용합계','산업용합계','합계'], \n",
    "               axis=1,inplace=True, errors='ignore')\n",
    "power2.drop(['합계','개성','경기','서울'], inplace=True,errors='ignore')"
   ]
  },
  {
   "cell_type": "code",
   "execution_count": null,
   "id": "d4be2000",
   "metadata": {},
   "outputs": [],
   "source": [
    "index_power = power2.index\n",
    "column_power = power2.columns\n",
    "manufacture = list(column_power).index('제조업')\n",
    "service = list(column_power).index('서비스업')\n",
    "manufacture"
   ]
  },
  {
   "cell_type": "code",
   "execution_count": null,
   "id": "66f251cf",
   "metadata": {},
   "outputs": [],
   "source": [
    "power3 = StandardScaler().fit_transform(power2)"
   ]
  },
  {
   "cell_type": "code",
   "execution_count": null,
   "id": "dfa93511",
   "metadata": {},
   "outputs": [],
   "source": [
    "type(power3);type(power2)"
   ]
  },
  {
   "cell_type": "code",
   "execution_count": null,
   "id": "f2c1be5f",
   "metadata": {},
   "outputs": [],
   "source": [
    "Z = linkage(power3, metric='euclidean', method='ward')  \n",
    "plt.figure(figsize=(10, 5))\n",
    "plt.title('덴드로그램')\n",
    "dendrogram(Z, labels=index_power)\n",
    "plt.show()"
   ]
  },
  {
   "cell_type": "code",
   "execution_count": null,
   "id": "2918ac12",
   "metadata": {},
   "outputs": [],
   "source": [
    "k = KMeans(n_clusters=4).fit(power3)"
   ]
  },
  {
   "cell_type": "code",
   "execution_count": null,
   "id": "e4ca849c",
   "metadata": {},
   "outputs": [],
   "source": [
    "n_samples = power3.shape[0]\n",
    "print(n_samples)\n",
    "\n",
    "plt.figure(figsize=(5, 4))\n",
    "plt.xlabel('서비스업')\n",
    "plt.ylabel('제조업')\n",
    "\n",
    "for n in range(n_samples):\n",
    "    label = k.labels_[n]\n",
    "    plt.scatter(power3[n][service], power3[n][manufacture], \n",
    "                c=my_color[label], marker=my_markers[label], s=100)\n",
    "    plt.text(power3[n][service]*1.05, power3[n][manufacture]*0.99, \n",
    "             index_power[n])"
   ]
  },
  {
   "cell_type": "code",
   "execution_count": null,
   "id": "e1bae4b3",
   "metadata": {},
   "outputs": [],
   "source": []
  }
 ],
 "metadata": {
  "kernelspec": {
   "display_name": "Python 3",
   "language": "python",
   "name": "python3"
  },
  "language_info": {
   "codemirror_mode": {
    "name": "ipython",
    "version": 3
   },
   "file_extension": ".py",
   "mimetype": "text/x-python",
   "name": "python",
   "nbconvert_exporter": "python",
   "pygments_lexer": "ipython3",
   "version": "3.8.8"
  }
 },
 "nbformat": 4,
 "nbformat_minor": 5
}
