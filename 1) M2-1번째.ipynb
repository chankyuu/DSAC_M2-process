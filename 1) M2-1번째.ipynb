{
 "cells": [
  {
   "attachments": {},
   "cell_type": "markdown",
   "id": "5ba8edc5",
   "metadata": {},
   "source": [
    "# 라이브러리\n",
    "\n",
    "## Numpy : 수를 배열로 표현->계산이 가능\n",
    "## Pandas : 수를 테이블로 표현\n",
    "## Matplotlib : 차트를 표시 \n",
    "\n",
    "## Scikit-learn : 머신러닝 알고리즘을 포함"
   ]
  },
  {
   "cell_type": "code",
   "execution_count": 1,
   "id": "db8ba9c0",
   "metadata": {},
   "outputs": [],
   "source": [
    "a=[2,3,5,7]"
   ]
  },
  {
   "cell_type": "code",
   "execution_count": 2,
   "id": "5bda17d5",
   "metadata": {},
   "outputs": [
    {
     "data": {
      "text/plain": [
       "4"
      ]
     },
     "execution_count": 2,
     "metadata": {},
     "output_type": "execute_result"
    }
   ],
   "source": [
    "len(a)  ##4"
   ]
  },
  {
   "cell_type": "code",
   "execution_count": 3,
   "id": "7a490d7a",
   "metadata": {},
   "outputs": [
    {
     "data": {
      "text/plain": [
       "False"
      ]
     },
     "execution_count": 3,
     "metadata": {},
     "output_type": "execute_result"
    }
   ],
   "source": [
    "4 in a  ##false"
   ]
  },
  {
   "cell_type": "code",
   "execution_count": 4,
   "id": "51835537",
   "metadata": {},
   "outputs": [
    {
     "data": {
      "text/plain": [
       "True"
      ]
     },
     "execution_count": 4,
     "metadata": {},
     "output_type": "execute_result"
    }
   ],
   "source": [
    "4 not in a ## true"
   ]
  },
  {
   "cell_type": "code",
   "execution_count": 5,
   "id": "198ae971",
   "metadata": {},
   "outputs": [
    {
     "data": {
      "text/plain": [
       "[2, 3, 5, 7, 25]"
      ]
     },
     "execution_count": 5,
     "metadata": {},
     "output_type": "execute_result"
    }
   ],
   "source": [
    "a.append(25) ; a  ## 맨 마지막 위치에 25가 삽입"
   ]
  },
  {
   "cell_type": "code",
   "execution_count": 9,
   "id": "a2918e9b",
   "metadata": {},
   "outputs": [
    {
     "data": {
      "text/plain": [
       "[2, 35, 35, 3, 5, 7, 25, 1, 1]"
      ]
     },
     "execution_count": 9,
     "metadata": {},
     "output_type": "execute_result"
    }
   ],
   "source": [
    "a.insert(1, 35)  ; a  ## (인덱스위치, 추가할 값)"
   ]
  },
  {
   "cell_type": "code",
   "execution_count": 11,
   "id": "dfaeea72",
   "metadata": {},
   "outputs": [
    {
     "data": {
      "text/plain": [
       "[1, 1, 2, 3, 5, 7, 25, 35, 35]"
      ]
     },
     "execution_count": 11,
     "metadata": {},
     "output_type": "execute_result"
    }
   ],
   "source": [
    "a.sort()  ; a"
   ]
  },
  {
   "cell_type": "code",
   "execution_count": 12,
   "id": "469dda1f",
   "metadata": {},
   "outputs": [
    {
     "data": {
      "text/plain": [
       "[35, 35, 25, 7, 5, 3, 2, 1, 1]"
      ]
     },
     "execution_count": 12,
     "metadata": {},
     "output_type": "execute_result"
    }
   ],
   "source": [
    "a.sort(reverse=True)  ; a"
   ]
  },
  {
   "cell_type": "code",
   "execution_count": 13,
   "id": "96f26c3b",
   "metadata": {},
   "outputs": [
    {
     "data": {
      "text/plain": [
       "35"
      ]
     },
     "execution_count": 13,
     "metadata": {},
     "output_type": "execute_result"
    }
   ],
   "source": [
    "a[0]"
   ]
  },
  {
   "cell_type": "code",
   "execution_count": 14,
   "id": "ff83b01b",
   "metadata": {},
   "outputs": [
    {
     "data": {
      "text/plain": [
       "1"
      ]
     },
     "execution_count": 14,
     "metadata": {},
     "output_type": "execute_result"
    }
   ],
   "source": [
    "a[-1]"
   ]
  },
  {
   "cell_type": "code",
   "execution_count": 15,
   "id": "f730154a",
   "metadata": {},
   "outputs": [
    {
     "data": {
      "text/plain": [
       "1"
      ]
     },
     "execution_count": 15,
     "metadata": {},
     "output_type": "execute_result"
    }
   ],
   "source": [
    "a[-2]"
   ]
  },
  {
   "cell_type": "code",
   "execution_count": 16,
   "id": "c12ec7ee",
   "metadata": {},
   "outputs": [
    {
     "data": {
      "text/plain": [
       "[35, 25, 7]"
      ]
     },
     "execution_count": 16,
     "metadata": {},
     "output_type": "execute_result"
    }
   ],
   "source": [
    "a[1:4]"
   ]
  },
  {
   "cell_type": "code",
   "execution_count": 17,
   "id": "c0de51e3",
   "metadata": {},
   "outputs": [
    {
     "data": {
      "text/plain": [
       "[35, 35, 25, 7]"
      ]
     },
     "execution_count": 17,
     "metadata": {},
     "output_type": "execute_result"
    }
   ],
   "source": [
    "a[:4]"
   ]
  },
  {
   "cell_type": "code",
   "execution_count": 18,
   "id": "8bef4606",
   "metadata": {},
   "outputs": [
    {
     "data": {
      "text/plain": [
       "[7, 5, 3, 2, 1, 1]"
      ]
     },
     "execution_count": 18,
     "metadata": {},
     "output_type": "execute_result"
    }
   ],
   "source": [
    "a[3:]"
   ]
  },
  {
   "cell_type": "code",
   "execution_count": 19,
   "id": "9d57e098",
   "metadata": {},
   "outputs": [
    {
     "data": {
      "text/plain": [
       "2"
      ]
     },
     "execution_count": 19,
     "metadata": {},
     "output_type": "execute_result"
    }
   ],
   "source": [
    "a.count(35)"
   ]
  },
  {
   "cell_type": "code",
   "execution_count": 20,
   "id": "6300c1d0",
   "metadata": {},
   "outputs": [
    {
     "data": {
      "text/plain": [
       "6"
      ]
     },
     "execution_count": 20,
     "metadata": {},
     "output_type": "execute_result"
    }
   ],
   "source": [
    "a.index(2)"
   ]
  },
  {
   "cell_type": "code",
   "execution_count": null,
   "id": "0199ffab",
   "metadata": {},
   "outputs": [],
   "source": [
    "max(a)"
   ]
  },
  {
   "cell_type": "code",
   "execution_count": null,
   "id": "59a96524",
   "metadata": {},
   "outputs": [],
   "source": [
    "min(a)"
   ]
  },
  {
   "cell_type": "code",
   "execution_count": null,
   "id": "1c4417d4",
   "metadata": {},
   "outputs": [],
   "source": [
    "sum(a)/len(a)"
   ]
  },
  {
   "cell_type": "code",
   "execution_count": 23,
   "id": "e4e1289a",
   "metadata": {},
   "outputs": [
    {
     "data": {
      "text/plain": [
       "(5, 4)"
      ]
     },
     "execution_count": 23,
     "metadata": {},
     "output_type": "execute_result"
    }
   ],
   "source": [
    "b=(5,4) ; b"
   ]
  },
  {
   "cell_type": "code",
   "execution_count": 24,
   "id": "7bf2a02d",
   "metadata": {},
   "outputs": [
    {
     "data": {
      "text/plain": [
       "(6, 7)"
      ]
     },
     "execution_count": 24,
     "metadata": {},
     "output_type": "execute_result"
    }
   ],
   "source": [
    "c=6,7 ; c"
   ]
  },
  {
   "cell_type": "markdown",
   "id": "fc0db81a",
   "metadata": {},
   "source": [
    "# 딕셔너리"
   ]
  },
  {
   "cell_type": "code",
   "execution_count": 25,
   "id": "78762421",
   "metadata": {},
   "outputs": [
    {
     "name": "stdout",
     "output_type": "stream",
     "text": [
      "홍길동\n",
      "26\n",
      "82\n"
     ]
    }
   ],
   "source": [
    "person = {'이름' : '홍길동', '나이' : 26, '몸무게' : 82 }\n",
    "print(person['이름'])\n",
    "print(person['나이'])\n",
    "print(person['몸무게'])"
   ]
  },
  {
   "cell_type": "code",
   "execution_count": 26,
   "id": "f71d9e5d",
   "metadata": {},
   "outputs": [
    {
     "data": {
      "text/plain": [
       "{'이름': '홍길동', '나이': 26, '몸무게': 82, '직업': '율도국의 왕'}"
      ]
     },
     "execution_count": 26,
     "metadata": {},
     "output_type": "execute_result"
    }
   ],
   "source": [
    "person['직업'] = '율도국의 왕' ; person"
   ]
  },
  {
   "cell_type": "code",
   "execution_count": 30,
   "id": "354db2cb",
   "metadata": {},
   "outputs": [
    {
     "data": {
      "text/plain": [
       "{'이름': '홍길동', '몸무게': 82, '직업': '율도국의 왕', '나이': 20}"
      ]
     },
     "execution_count": 30,
     "metadata": {},
     "output_type": "execute_result"
    }
   ],
   "source": [
    "person['나이'] =20 ; person"
   ]
  },
  {
   "cell_type": "code",
   "execution_count": 32,
   "id": "8a3fa308",
   "metadata": {},
   "outputs": [
    {
     "name": "stdout",
     "output_type": "stream",
     "text": [
      "나이 키 없음\n"
     ]
    }
   ],
   "source": [
    "if '나이' in person :\n",
    "    del person['나이']\n",
    "    print(person)  ## 키이름이 없는 경우 오류\n",
    "else:\n",
    "    print('나이 키이름 없음')"
   ]
  },
  {
   "cell_type": "code",
   "execution_count": null,
   "id": "bd8d4675",
   "metadata": {},
   "outputs": [],
   "source": []
  },
  {
   "cell_type": "code",
   "execution_count": null,
   "id": "7e38fba4",
   "metadata": {},
   "outputs": [],
   "source": []
  }
 ],
 "metadata": {
  "kernelspec": {
   "display_name": "Python 3",
   "language": "python",
   "name": "python3"
  },
  "language_info": {
   "codemirror_mode": {
    "name": "ipython",
    "version": 3
   },
   "file_extension": ".py",
   "mimetype": "text/x-python",
   "name": "python",
   "nbconvert_exporter": "python",
   "pygments_lexer": "ipython3",
   "version": "3.8.8"
  }
 },
 "nbformat": 4,
 "nbformat_minor": 5
}
