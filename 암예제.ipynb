{
 "cells": [
  {
   "cell_type": "code",
   "execution_count": null,
   "id": "7b410cbf",
   "metadata": {},
   "outputs": [],
   "source": [
    "import numpy as np\n",
    "import pandas as pd\n",
    "import matplotlib.pyplot as plt\n",
    "import matplotlib.gridspec as gridspec\n",
    "import seaborn as sns \n",
    "from sklearn.model_selection import train_test_split\n",
    "from sklearn.model_selection import KFold             \n",
    "from sklearn.linear_model import LogisticRegression\n",
    "from sklearn import metrics"
   ]
  },
  {
   "cell_type": "code",
   "execution_count": null,
   "id": "2ff6007a",
   "metadata": {},
   "outputs": [],
   "source": [
    "data = pd.read_csv('breast_cancer.csv')\n",
    "print(data.shape)\n",
    "#data.head(6)\n",
    "data.tail(6)\n",
    "#data"
   ]
  },
  {
   "cell_type": "code",
   "execution_count": null,
   "id": "afca5570",
   "metadata": {},
   "outputs": [],
   "source": [
    "data['diagnosis'] = data['diagnosis'].map({'M':1,'B':0})\n",
    "df = data[[\"diagnosis\", \"radius_mean\", \"texture_mean\"]]\n",
    "df.head()"
   ]
  },
  {
   "cell_type": "code",
   "execution_count": null,
   "id": "7cb62459",
   "metadata": {},
   "outputs": [],
   "source": [
    "features = [\"radius_mean\"]\n",
    "X = df[features]\n",
    "y = df[\"diagnosis\"]\n",
    "np.random.seed(11) ## 랜덤을 초기화 - 항상 고정된 랜덤값을 뽑기 위해서 \n",
    "\n",
    "X_train, X_test, y_train, y_test = train_test_split(X, y, test_size = 0.3)\n",
    "model=LogisticRegression()\n",
    "model.fit(X_train, y_train)  ##로지스틱 회귀 수행\n",
    "\n",
    "print(model.score(X_test, y_test))\n",
    "print(X_test.shape)\n",
    "print(model.coef_)\n",
    "print(model.intercept_)"
   ]
  },
  {
   "cell_type": "code",
   "execution_count": null,
   "id": "dd39915f",
   "metadata": {},
   "outputs": [],
   "source": [
    "def logreg(x):\n",
    "    return 1 / (1 + np.exp(-x))\n",
    "\n",
    "plt.figure(figsize=(8,4))\n",
    "plt.scatter(X_train, y_train, s=1)\n",
    "plt.xlabel(\"radius_mean\")\n",
    "plt.ylabel(\"M(1) or B(0)\")\n",
    "\n",
    "XX = np.linspace(7.5, 40, 100)\n",
    "plt.plot(XX, logreg(model.coef_ * XX + model.intercept_)[0], c='r')"
   ]
  },
  {
   "cell_type": "code",
   "execution_count": null,
   "id": "e9bffe64",
   "metadata": {},
   "outputs": [],
   "source": [
    "features = [\"radius_mean\", \"texture_mean\"]\n",
    "\n",
    "X = df[features]\n",
    "X_train, X_test, y_train, y_test = train_test_split(X, y, test_size = 0.3)\n",
    "\n",
    "model.fit(X_train, y_train)\n",
    "print(model.score(X_test, y_test))\n",
    "print(X_test.shape)\n",
    "print(model.coef_)\n",
    "print(model.intercept_)"
   ]
  },
  {
   "cell_type": "code",
   "execution_count": null,
   "id": "b27931c6",
   "metadata": {},
   "outputs": [],
   "source": [
    "markers = ['o', 'v']\n",
    "label = [\"B\", \"M\"]\n",
    "for i in range(2):\n",
    "    xs = X_train[\"radius_mean\"][y_train == i]\n",
    "    ys = X_train[\"texture_mean\"][y_train == i]\n",
    "    plt.scatter(xs, ys, marker=markers[i], s=10)\n",
    "plt.legend(label)\n",
    "plt.xlabel(\"radius_mean\")\n",
    "plt.ylabel(\"texture_mean\")"
   ]
  },
  {
   "cell_type": "code",
   "execution_count": null,
   "id": "8172dc54",
   "metadata": {},
   "outputs": [],
   "source": []
  }
 ],
 "metadata": {
  "kernelspec": {
   "display_name": "Python 3",
   "language": "python",
   "name": "python3"
  },
  "language_info": {
   "codemirror_mode": {
    "name": "ipython",
    "version": 3
   },
   "file_extension": ".py",
   "mimetype": "text/x-python",
   "name": "python",
   "nbconvert_exporter": "python",
   "pygments_lexer": "ipython3",
   "version": "3.8.8"
  }
 },
 "nbformat": 4,
 "nbformat_minor": 5
}
