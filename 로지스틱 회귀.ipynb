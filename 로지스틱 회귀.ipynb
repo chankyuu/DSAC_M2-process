{
 "cells": [
  {
   "cell_type": "code",
   "execution_count": null,
   "id": "cdd8248b",
   "metadata": {},
   "outputs": [],
   "source": [
    "import pandas as pd\n",
    "import numpy as np\n",
    "import matplotlib.pyplot as plt\n",
    "from sklearn import *\n",
    "from sklearn import datasets \n",
    "from sklearn.model_selection import *\n",
    "from sklearn.linear_model import *\n",
    "from sklearn.linear_model import LogisticRegression\n",
    "%matplotlib inline\n",
    "%config InlineBackend.figure_format = 'retina'"
   ]
  },
  {
   "cell_type": "code",
   "execution_count": null,
   "id": "2d6ced5e",
   "metadata": {},
   "outputs": [],
   "source": [
    "pass_time = [8,9, 9, 9.5, 10, 12, 14, 14.5, 15, 16, 16, 16.5, 17, 17, 17, 17.5,20, 20, 20]\n",
    "fail_time = [1, 2, 2.1,2.6,2.7,2.8,2.9, 3,3.2,3.4,3.5,3.6,3, 5,5.2,5.4]"
   ]
  },
  {
   "cell_type": "code",
   "execution_count": null,
   "id": "aa4c92fb",
   "metadata": {},
   "outputs": [],
   "source": [
    "X = np.hstack([pass_time,fail_time])   ; #X"
   ]
  },
  {
   "cell_type": "code",
   "execution_count": null,
   "id": "8cd37c6d",
   "metadata": {},
   "outputs": [],
   "source": [
    "y1=[1]*len(pass_time)\n",
    "y0=[0]*len(fail_time)\n",
    "y1, y0"
   ]
  },
  {
   "cell_type": "code",
   "execution_count": null,
   "id": "269aa989",
   "metadata": {},
   "outputs": [],
   "source": [
    "y = np.hstack((y1,y0)) ; y"
   ]
  },
  {
   "cell_type": "code",
   "execution_count": null,
   "id": "fcfdd74f",
   "metadata": {},
   "outputs": [],
   "source": [
    "fig = plt.figure(figsize=(8,6))\n",
    "plt.xlim(0, 21)\n",
    "plt.ylim(-0.1, 1.1)\n",
    "plt.xlabel(\"Study time\")\n",
    "plt.ylabel(\"Pass rate\")\n",
    "plt.scatter(X, y)\n",
    "plt.show()"
   ]
  },
  {
   "cell_type": "code",
   "execution_count": null,
   "id": "68cc1b77",
   "metadata": {},
   "outputs": [],
   "source": []
  },
  {
   "cell_type": "code",
   "execution_count": null,
   "id": "3f3377d7",
   "metadata": {},
   "outputs": [],
   "source": [
    "model = LogisticRegression()   ## 로지스틱회귀\n",
    "model.fit(X.reshape(-1, 1),y)\n",
    "print(model.coef_)   ## 기울기\n",
    "print(model.intercept_) ##y절편"
   ]
  },
  {
   "cell_type": "code",
   "execution_count": null,
   "id": "320786e4",
   "metadata": {},
   "outputs": [],
   "source": [
    "sample1 = np.array([6.9])\n",
    "model.predict(sample1.reshape([-1, 1]))"
   ]
  },
  {
   "cell_type": "code",
   "execution_count": null,
   "id": "ef04b1d3",
   "metadata": {},
   "outputs": [],
   "source": [
    "model.predict_proba(sample1.reshape([-1, 1]))"
   ]
  },
  {
   "cell_type": "code",
   "execution_count": null,
   "id": "492a6b90",
   "metadata": {},
   "outputs": [],
   "source": [
    "sample2 = np.array([13])\n",
    "model.predict(sample2.reshape([-1, 1]))"
   ]
  },
  {
   "cell_type": "code",
   "execution_count": null,
   "id": "1d724f74",
   "metadata": {},
   "outputs": [],
   "source": [
    "model.predict_proba(sample2.reshape([-1, 1]))"
   ]
  },
  {
   "cell_type": "code",
   "execution_count": null,
   "id": "b5160fcc",
   "metadata": {},
   "outputs": [],
   "source": [
    "def logreg(z):\n",
    "    return 1 /(1+np.exp(-z))\n",
    "\n",
    "fig = plt.figure(figsize=(8,6))\n",
    "plt.xlim(0, 20)  ;        plt.ylim(-0.1, 1.1)\n",
    "plt.xlabel('Study time'); plt.ylabel('Pass rate')\n",
    "plt.scatter(X, y, s=50)\n",
    "\n",
    "XX = np.linspace(0.5, 21, 100)  ##0.5~21사이의 균등 분포로 100개를 x값으로 추출\n",
    "yy = logreg(model.coef_*XX + model.intercept_)[0]\n",
    "plt.plot(XX, yy, c='r')"
   ]
  },
  {
   "cell_type": "code",
   "execution_count": null,
   "id": "0486da02",
   "metadata": {},
   "outputs": [],
   "source": []
  }
 ],
 "metadata": {
  "kernelspec": {
   "display_name": "Python 3",
   "language": "python",
   "name": "python3"
  },
  "language_info": {
   "codemirror_mode": {
    "name": "ipython",
    "version": 3
   },
   "file_extension": ".py",
   "mimetype": "text/x-python",
   "name": "python",
   "nbconvert_exporter": "python",
   "pygments_lexer": "ipython3",
   "version": "3.8.8"
  }
 },
 "nbformat": 4,
 "nbformat_minor": 5
}
