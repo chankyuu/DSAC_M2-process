{
 "cells": [
  {
   "cell_type": "code",
   "execution_count": 1,
   "id": "977e4f15",
   "metadata": {},
   "outputs": [],
   "source": [
    "from numpy import nan as NA\n",
    "from pandas import DataFrame\n",
    "import pandas as pd\n",
    "import numpy as np"
   ]
  },
  {
   "cell_type": "markdown",
   "id": "3b23f9b4",
   "metadata": {},
   "source": [
    "## 데이터전처리"
   ]
  },
  {
   "cell_type": "code",
   "execution_count": null,
   "id": "97b926b4",
   "metadata": {},
   "outputs": [],
   "source": [
    "df = pd.DataFrame(np.random.randn(3,4)) \n",
    "print(df)"
   ]
  },
  {
   "cell_type": "code",
   "execution_count": null,
   "id": "f669d080",
   "metadata": {},
   "outputs": [],
   "source": [
    "df[2][1] = np.nan  ###\n",
    "print(df)"
   ]
  },
  {
   "cell_type": "code",
   "execution_count": null,
   "id": "474ad30c",
   "metadata": {},
   "outputs": [],
   "source": [
    "cleaned = df.dropna()  ## 결측치를 버리기\n",
    "print(cleaned)"
   ]
  },
  {
   "cell_type": "code",
   "execution_count": null,
   "id": "4eb656d3",
   "metadata": {},
   "outputs": [],
   "source": [
    "df_2 = df.fillna(100)\n",
    "print(df_2)"
   ]
  },
  {
   "cell_type": "code",
   "execution_count": null,
   "id": "b5aa548a",
   "metadata": {},
   "outputs": [],
   "source": [
    "df_3 = df.fillna(df.mean())\n",
    "print(df_3)"
   ]
  },
  {
   "cell_type": "code",
   "execution_count": null,
   "id": "e610eb14",
   "metadata": {},
   "outputs": [],
   "source": [
    "df_4 = df.fillna(method='ffill')\n",
    "print(df_4)"
   ]
  },
  {
   "cell_type": "code",
   "execution_count": null,
   "id": "15eb51bf",
   "metadata": {},
   "outputs": [],
   "source": [
    "df_5 = df.fillna(df.min())\n",
    "print(df_5)"
   ]
  },
  {
   "cell_type": "code",
   "execution_count": null,
   "id": "ae67029e",
   "metadata": {},
   "outputs": [],
   "source": [
    "df_6 = df.fillna(df.max())\n",
    "print(df_6)"
   ]
  },
  {
   "cell_type": "markdown",
   "id": "08ac37b9",
   "metadata": {},
   "source": [
    "## 데이터변환-전처리"
   ]
  },
  {
   "cell_type": "code",
   "execution_count": 8,
   "id": "e97dda70",
   "metadata": {},
   "outputs": [],
   "source": [
    "n_samples = 1000\n",
    "\n",
    "height = 3*np.random.randn(n_samples).round() + 170  ## 약167 ~ 173 키를 생성\n",
    "\n",
    "nationality = np.random.randint(0,3,n_samples)  ## 0~3사이의 값을 10개를 생성"
   ]
  },
  {
   "cell_type": "code",
   "execution_count": 9,
   "id": "ae9f6fef",
   "metadata": {},
   "outputs": [
    {
     "data": {
      "text/plain": [
       "(array([176., 167., 167., 173., 167., 173., 170., 173., 173., 167., 176.,\n",
       "        170., 170., 170., 167., 164., 170., 170., 170., 170., 173., 170.,\n",
       "        173., 167., 173., 173., 167., 176., 176., 164., 161., 179., 167.,\n",
       "        170., 176., 176., 167., 170., 167., 170., 170., 176., 173., 176.,\n",
       "        170., 167., 170., 167., 170., 179., 176., 173., 167., 170., 170.,\n",
       "        170., 170., 167., 170., 167., 176., 170., 170., 170., 170., 170.,\n",
       "        170., 170., 167., 170., 167., 167., 170., 170., 164., 173., 170.,\n",
       "        170., 170., 173., 170., 173., 173., 167., 170., 167., 167., 170.,\n",
       "        167., 170., 170., 173., 170., 170., 167., 176., 167., 167., 173.,\n",
       "        167., 176., 167., 170., 173., 170., 170., 170., 170., 170., 167.,\n",
       "        167., 164., 167., 167., 170., 167., 167., 164., 170., 167., 176.,\n",
       "        167., 173., 170., 173., 170., 170., 164., 164., 176., 170., 167.,\n",
       "        170., 173., 173., 164., 164., 164., 170., 170., 170., 176., 170.,\n",
       "        173., 173., 173., 167., 173., 170., 167., 170., 170., 170., 167.,\n",
       "        173., 167., 173., 176., 167., 173., 170., 173., 170., 167., 161.,\n",
       "        167., 173., 173., 170., 173., 167., 170., 173., 167., 173., 173.,\n",
       "        173., 173., 167., 170., 173., 173., 170., 170., 167., 167., 170.,\n",
       "        164., 173., 170., 170., 173., 173., 170., 173., 167., 170., 173.,\n",
       "        173., 167., 170., 170., 164., 173., 167., 170., 170., 173., 164.,\n",
       "        167., 173., 173., 173., 167., 176., 173., 173., 170., 173., 170.,\n",
       "        170., 170., 170., 170., 170., 167., 173., 170., 170., 167., 173.,\n",
       "        173., 173., 167., 170., 170., 170., 173., 170., 167., 167., 167.,\n",
       "        173., 173., 170., 167., 173., 167., 167., 173., 167., 164., 173.,\n",
       "        170., 170., 173., 167., 170., 170., 164., 170., 164., 167., 170.,\n",
       "        167., 167., 164., 170., 167., 167., 164., 164., 170., 167., 170.,\n",
       "        170., 170., 167., 170., 170., 173., 167., 161., 170., 167., 167.,\n",
       "        167., 170., 167., 170., 173., 170., 167., 173., 167., 170., 167.,\n",
       "        170., 170., 164., 176., 170., 167., 170., 170., 164., 170., 167.,\n",
       "        173., 167., 164., 167., 170., 167., 170., 173., 179., 173., 164.,\n",
       "        170., 173., 170., 179., 167., 167., 176., 164., 173., 167., 170.,\n",
       "        173., 173., 173., 176., 170., 173., 170., 170., 176., 173., 170.,\n",
       "        170., 167., 167., 167., 167., 173., 173., 173., 167., 170., 173.,\n",
       "        176., 176., 170., 167., 170., 173., 170., 173., 167., 170., 167.,\n",
       "        176., 167., 170., 173., 167., 173., 170., 173., 176., 170., 167.,\n",
       "        170., 170., 170., 170., 167., 170., 167., 167., 164., 170., 170.,\n",
       "        170., 170., 173., 170., 167., 170., 170., 173., 170., 170., 179.,\n",
       "        170., 167., 164., 176., 170., 173., 173., 176., 170., 173., 173.,\n",
       "        170., 167., 176., 170., 170., 167., 167., 170., 167., 170., 173.,\n",
       "        167., 173., 170., 167., 176., 164., 173., 170., 167., 167., 167.,\n",
       "        173., 170., 170., 170., 176., 170., 167., 167., 176., 173., 173.,\n",
       "        170., 170., 170., 170., 170., 167., 164., 170., 170., 173., 167.,\n",
       "        173., 173., 170., 170., 170., 167., 170., 167., 167., 167., 167.,\n",
       "        170., 173., 170., 170., 173., 170., 173., 167., 164., 173., 170.,\n",
       "        167., 173., 170., 170., 170., 167., 164., 167., 170., 167., 170.,\n",
       "        170., 167., 173., 170., 167., 170., 170., 167., 170., 167., 170.,\n",
       "        167., 170., 161., 173., 167., 170., 167., 173., 170., 170., 173.,\n",
       "        173., 176., 173., 170., 167., 170., 170., 167., 167., 167., 173.,\n",
       "        170., 170., 173., 170., 173., 173., 167., 167., 173., 173., 170.,\n",
       "        170., 164., 176., 167., 167., 167., 167., 170., 173., 173., 173.,\n",
       "        170., 167., 170., 164., 173., 167., 170., 173., 170., 167., 173.,\n",
       "        167., 170., 173., 170., 173., 164., 173., 179., 173., 167., 167.,\n",
       "        173., 173., 173., 167., 164., 167., 167., 164., 170., 167., 167.,\n",
       "        173., 167., 164., 167., 170., 170., 170., 170., 170., 173., 167.,\n",
       "        170., 167., 173., 170., 173., 167., 173., 170., 167., 167., 173.,\n",
       "        167., 170., 170., 170., 170., 170., 170., 173., 167., 170., 170.,\n",
       "        167., 176., 170., 173., 170., 167., 167., 167., 170., 170., 173.,\n",
       "        173., 167., 167., 176., 170., 164., 173., 170., 170., 170., 173.,\n",
       "        173., 170., 170., 170., 173., 167., 170., 170., 170., 170., 173.,\n",
       "        173., 176., 173., 167., 173., 170., 176., 176., 173., 164., 176.,\n",
       "        167., 164., 170., 170., 170., 173., 173., 173., 167., 170., 170.,\n",
       "        170., 170., 167., 167., 170., 173., 176., 170., 170., 167., 170.,\n",
       "        167., 164., 173., 170., 173., 164., 170., 167., 170., 170., 173.,\n",
       "        167., 170., 173., 173., 170., 170., 167., 173., 170., 164., 173.,\n",
       "        170., 170., 164., 167., 170., 164., 170., 167., 167., 164., 164.,\n",
       "        167., 170., 170., 164., 164., 167., 167., 164., 176., 170., 164.,\n",
       "        170., 176., 173., 173., 170., 173., 170., 170., 170., 176., 170.,\n",
       "        170., 167., 170., 167., 170., 170., 170., 173., 167., 173., 170.,\n",
       "        173., 176., 173., 164., 170., 164., 176., 176., 173., 170., 170.,\n",
       "        170., 167., 173., 167., 170., 167., 170., 179., 167., 173., 167.,\n",
       "        170., 170., 170., 176., 170., 170., 170., 170., 167., 170., 170.,\n",
       "        170., 170., 167., 167., 167., 167., 167., 167., 173., 167., 176.,\n",
       "        167., 173., 170., 167., 167., 164., 170., 170., 170., 167., 170.,\n",
       "        167., 173., 170., 170., 170., 167., 170., 173., 170., 170., 170.,\n",
       "        173., 170., 173., 167., 173., 167., 170., 173., 176., 173., 164.,\n",
       "        167., 164., 173., 170., 173., 167., 170., 173., 176., 170., 173.,\n",
       "        176., 167., 176., 170., 173., 170., 167., 170., 173., 170., 167.,\n",
       "        173., 167., 167., 170., 170., 167., 170., 170., 170., 170., 164.,\n",
       "        173., 173., 173., 167., 167., 170., 170., 167., 176., 170., 173.,\n",
       "        167., 170., 167., 176., 173., 173., 170., 170., 167., 170., 173.,\n",
       "        167., 173., 170., 167., 176., 176., 170., 164., 170., 164., 167.,\n",
       "        170., 170., 167., 173., 170., 170., 170., 170., 167., 170., 173.,\n",
       "        173., 170., 170., 170., 164., 173., 170., 170., 167., 167., 170.,\n",
       "        170., 170., 173., 167., 170., 167., 170., 170., 164., 167., 173.,\n",
       "        170., 164., 167., 167., 179., 176., 173., 170., 173., 167., 170.,\n",
       "        170., 167., 173., 161., 167., 176., 173., 170., 173., 170., 167.,\n",
       "        167., 170., 170., 170., 173., 170., 176., 173., 170., 161., 173.,\n",
       "        173., 170., 173., 170., 167., 170., 170., 170., 167., 173., 170.,\n",
       "        164., 167., 167., 173., 167., 173., 173., 173., 176., 170., 173.,\n",
       "        167., 167., 167., 173., 170., 167., 173., 173., 173., 173., 164.,\n",
       "        164., 173., 170., 173., 173., 170., 173., 173., 173., 170., 173.,\n",
       "        173., 173., 167., 173., 173., 170., 170., 176., 170., 173.]),\n",
       " array([0, 1, 2, 2, 0, 0, 1, 2, 1, 1, 2, 0, 0, 0, 0, 0, 1, 1, 0, 0, 1, 1,\n",
       "        2, 2, 2, 0, 1, 0, 1, 0, 1, 2, 2, 2, 1, 2, 2, 1, 0, 1, 0, 1, 1, 2,\n",
       "        2, 2, 0, 0, 0, 2, 0, 0, 2, 2, 0, 2, 2, 1, 2, 1, 1, 1, 1, 0, 0, 2,\n",
       "        2, 2, 2, 2, 2, 1, 0, 1, 2, 1, 2, 1, 2, 1, 2, 0, 1, 0, 0, 1, 1, 0,\n",
       "        2, 1, 0, 2, 1, 1, 1, 0, 2, 0, 2, 2, 2, 1, 2, 0, 1, 0, 2, 1, 0, 2,\n",
       "        1, 1, 0, 2, 2, 0, 0, 1, 2, 0, 0, 1, 0, 1, 0, 2, 2, 1, 2, 1, 2, 2,\n",
       "        2, 2, 0, 1, 0, 0, 2, 0, 2, 1, 1, 1, 1, 0, 1, 2, 1, 1, 0, 0, 0, 1,\n",
       "        0, 1, 0, 2, 1, 0, 0, 0, 1, 2, 0, 2, 2, 2, 2, 2, 1, 0, 0, 0, 2, 1,\n",
       "        0, 2, 2, 2, 1, 0, 2, 0, 1, 1, 1, 0, 1, 1, 1, 0, 0, 0, 1, 1, 2, 1,\n",
       "        1, 0, 2, 0, 1, 2, 0, 2, 2, 0, 2, 2, 1, 2, 2, 2, 2, 0, 1, 1, 0, 2,\n",
       "        2, 0, 1, 2, 0, 1, 1, 2, 2, 0, 2, 1, 0, 2, 0, 1, 2, 2, 2, 2, 0, 1,\n",
       "        2, 2, 1, 1, 2, 1, 1, 2, 2, 1, 2, 2, 1, 1, 2, 0, 0, 1, 0, 0, 2, 1,\n",
       "        0, 1, 2, 0, 0, 1, 1, 0, 0, 2, 1, 2, 2, 1, 1, 0, 2, 0, 2, 2, 1, 0,\n",
       "        2, 1, 1, 0, 2, 1, 2, 0, 1, 2, 0, 2, 2, 0, 1, 2, 0, 2, 1, 2, 2, 0,\n",
       "        2, 1, 0, 2, 0, 0, 1, 0, 0, 0, 2, 0, 2, 2, 1, 0, 0, 0, 2, 2, 2, 2,\n",
       "        0, 0, 1, 2, 0, 0, 0, 0, 2, 1, 0, 2, 1, 1, 2, 2, 2, 2, 2, 0, 1, 1,\n",
       "        0, 2, 0, 2, 1, 1, 2, 0, 0, 0, 0, 1, 2, 1, 1, 2, 2, 0, 2, 0, 1, 2,\n",
       "        1, 2, 0, 1, 1, 1, 2, 2, 0, 0, 0, 0, 2, 2, 1, 2, 2, 1, 2, 0, 1, 2,\n",
       "        2, 1, 1, 1, 2, 1, 0, 2, 0, 1, 0, 2, 2, 1, 1, 1, 1, 1, 2, 0, 1, 1,\n",
       "        0, 0, 0, 2, 1, 2, 2, 2, 0, 2, 1, 2, 0, 1, 0, 2, 2, 1, 0, 2, 1, 1,\n",
       "        0, 0, 2, 1, 2, 2, 0, 1, 0, 2, 1, 1, 0, 0, 2, 1, 2, 0, 0, 1, 1, 2,\n",
       "        0, 0, 0, 0, 0, 1, 2, 2, 2, 1, 2, 0, 1, 1, 1, 0, 0, 2, 0, 0, 0, 1,\n",
       "        2, 0, 2, 0, 0, 2, 0, 1, 0, 2, 1, 1, 2, 2, 0, 2, 0, 0, 0, 1, 0, 2,\n",
       "        1, 2, 0, 0, 1, 2, 0, 2, 0, 1, 0, 1, 2, 0, 1, 1, 1, 0, 1, 2, 0, 2,\n",
       "        0, 2, 2, 2, 0, 0, 0, 0, 2, 0, 1, 0, 2, 0, 1, 2, 2, 2, 2, 2, 0, 2,\n",
       "        1, 0, 0, 1, 1, 0, 1, 1, 0, 0, 2, 0, 1, 0, 2, 1, 2, 1, 0, 2, 0, 1,\n",
       "        2, 0, 1, 2, 1, 2, 0, 0, 2, 0, 0, 1, 0, 1, 2, 0, 0, 0, 0, 1, 0, 1,\n",
       "        1, 0, 2, 2, 1, 2, 0, 0, 0, 0, 2, 0, 1, 2, 1, 1, 1, 0, 0, 2, 2, 2,\n",
       "        0, 1, 0, 1, 0, 2, 0, 0, 0, 0, 1, 1, 0, 2, 2, 1, 0, 1, 0, 2, 0, 2,\n",
       "        0, 2, 0, 2, 2, 1, 2, 1, 1, 0, 1, 0, 0, 0, 1, 1, 0, 0, 0, 1, 2, 1,\n",
       "        0, 0, 0, 2, 1, 1, 1, 1, 1, 1, 1, 2, 0, 1, 1, 2, 0, 1, 2, 0, 2, 1,\n",
       "        0, 2, 2, 0, 0, 1, 2, 1, 1, 2, 0, 2, 2, 0, 1, 1, 0, 2, 1, 0, 1, 1,\n",
       "        1, 0, 1, 2, 1, 1, 0, 0, 1, 2, 2, 0, 2, 1, 0, 1, 2, 2, 2, 0, 0, 0,\n",
       "        1, 0, 0, 2, 0, 0, 2, 1, 2, 0, 1, 0, 1, 2, 2, 1, 0, 1, 0, 2, 1, 0,\n",
       "        0, 0, 2, 2, 0, 1, 2, 1, 2, 1, 0, 2, 1, 2, 2, 2, 0, 2, 2, 1, 2, 1,\n",
       "        1, 1, 1, 2, 1, 1, 2, 0, 1, 1, 0, 1, 0, 1, 0, 0, 0, 0, 0, 2, 2, 0,\n",
       "        0, 0, 0, 1, 0, 2, 2, 2, 1, 0, 0, 0, 0, 1, 2, 2, 1, 1, 2, 0, 2, 1,\n",
       "        1, 0, 1, 1, 0, 2, 2, 1, 0, 0, 2, 2, 1, 1, 1, 2, 2, 2, 0, 0, 2, 0,\n",
       "        2, 1, 0, 0, 0, 1, 2, 1, 2, 0, 2, 0, 0, 1, 1, 1, 1, 0, 2, 1, 2, 1,\n",
       "        0, 1, 0, 2, 1, 2, 0, 0, 2, 0, 1, 1, 0, 1, 0, 1, 0, 2, 0, 0, 0, 1,\n",
       "        2, 0, 1, 2, 1, 0, 2, 2, 1, 0, 0, 2, 0, 1, 2, 1, 0, 2, 2, 1, 1, 1,\n",
       "        0, 1, 1, 0, 1, 1, 0, 0, 2, 0, 0, 2, 1, 0, 2, 1, 1, 2, 0, 0, 2, 1,\n",
       "        1, 0, 1, 0, 2, 2, 2, 2, 0, 0, 1, 2, 2, 1, 2, 1, 0, 1, 1, 2, 2, 0,\n",
       "        0, 0, 1, 2, 2, 1, 1, 1, 2, 2, 2, 1, 2, 2, 2, 2, 0, 0, 0, 1, 2, 1,\n",
       "        0, 2, 1, 1, 2, 1, 1, 1, 0, 2, 1, 1, 1, 1, 2, 0, 0, 0, 2, 1, 2, 1,\n",
       "        1, 0, 0, 2, 0, 1, 2, 2, 2, 1]))"
      ]
     },
     "execution_count": 9,
     "metadata": {},
     "output_type": "execute_result"
    }
   ],
   "source": [
    "height, nationality"
   ]
  },
  {
   "cell_type": "code",
   "execution_count": null,
   "id": "252ecfb9",
   "metadata": {},
   "outputs": [],
   "source": [
    "list(zip(height, nationality))\n",
    "## zip : 리스트를 열로 묶어서 리스트로 만든것"
   ]
  },
  {
   "cell_type": "code",
   "execution_count": null,
   "id": "dc4a2760",
   "metadata": {},
   "outputs": [],
   "source": [
    "df = pd.DataFrame(list(zip(height, nationality)),  \n",
    "        ##행과 열을 가지는 테이블로 표현\n",
    "                  columns=[\"height\",\"nationality\"])\n",
    "df.head(3)"
   ]
  },
  {
   "cell_type": "code",
   "execution_count": null,
   "id": "9f139daf",
   "metadata": {},
   "outputs": [],
   "source": [
    "nat = pd.get_dummies(df['nationality'], prefix='nat_')\n",
    "nat    "
   ]
  },
  {
   "cell_type": "code",
   "execution_count": null,
   "id": "cf84102d",
   "metadata": {},
   "outputs": [],
   "source": [
    "new_df = pd.concat([df, nat], axis=1); new_df.head()\n",
    "## 판다스인 열과 열을 합치기 -열단위"
   ]
  },
  {
   "cell_type": "code",
   "execution_count": null,
   "id": "476d3687",
   "metadata": {},
   "outputs": [],
   "source": [
    "new_df.drop('nationality', axis=1, inplace=True)\n",
    "## 판다스의 nationality 열이 삭제가 됨\n",
    "new_df"
   ]
  },
  {
   "cell_type": "code",
   "execution_count": null,
   "id": "8d6f00f2",
   "metadata": {},
   "outputs": [],
   "source": [
    "nationality"
   ]
  },
  {
   "cell_type": "code",
   "execution_count": null,
   "id": "edc5f396",
   "metadata": {},
   "outputs": [],
   "source": [
    "nat_categ = pd.Categorical(nationality)\n",
    "nat_categ"
   ]
  },
  {
   "cell_type": "code",
   "execution_count": null,
   "id": "6af14b4d",
   "metadata": {},
   "outputs": [],
   "source": [
    "df['categ'] = nat_categ ; df"
   ]
  },
  {
   "cell_type": "code",
   "execution_count": null,
   "id": "c65c7310",
   "metadata": {},
   "outputs": [],
   "source": [
    "type(df.categ)"
   ]
  },
  {
   "cell_type": "code",
   "execution_count": null,
   "id": "4dd02ca9",
   "metadata": {},
   "outputs": [],
   "source": [
    "type(nat_categ)"
   ]
  },
  {
   "cell_type": "markdown",
   "id": "4e5e1b24",
   "metadata": {},
   "source": [
    "# 스케일링"
   ]
  },
  {
   "cell_type": "code",
   "execution_count": 35,
   "id": "0d329a40",
   "metadata": {},
   "outputs": [
    {
     "data": {
      "text/html": [
       "<div>\n",
       "<style scoped>\n",
       "    .dataframe tbody tr th:only-of-type {\n",
       "        vertical-align: middle;\n",
       "    }\n",
       "\n",
       "    .dataframe tbody tr th {\n",
       "        vertical-align: top;\n",
       "    }\n",
       "\n",
       "    .dataframe thead th {\n",
       "        text-align: right;\n",
       "    }\n",
       "</style>\n",
       "<table border=\"1\" class=\"dataframe\">\n",
       "  <thead>\n",
       "    <tr style=\"text-align: right;\">\n",
       "      <th></th>\n",
       "      <th>0</th>\n",
       "      <th>1</th>\n",
       "    </tr>\n",
       "  </thead>\n",
       "  <tbody>\n",
       "    <tr>\n",
       "      <th>0</th>\n",
       "      <td>161.0</td>\n",
       "      <td>62.0</td>\n",
       "    </tr>\n",
       "    <tr>\n",
       "      <th>1</th>\n",
       "      <td>173.0</td>\n",
       "      <td>66.0</td>\n",
       "    </tr>\n",
       "    <tr>\n",
       "      <th>2</th>\n",
       "      <td>167.0</td>\n",
       "      <td>70.0</td>\n",
       "    </tr>\n",
       "    <tr>\n",
       "      <th>3</th>\n",
       "      <td>170.0</td>\n",
       "      <td>70.0</td>\n",
       "    </tr>\n",
       "    <tr>\n",
       "      <th>4</th>\n",
       "      <td>170.0</td>\n",
       "      <td>66.0</td>\n",
       "    </tr>\n",
       "    <tr>\n",
       "      <th>5</th>\n",
       "      <td>176.0</td>\n",
       "      <td>70.0</td>\n",
       "    </tr>\n",
       "    <tr>\n",
       "      <th>6</th>\n",
       "      <td>170.0</td>\n",
       "      <td>78.0</td>\n",
       "    </tr>\n",
       "    <tr>\n",
       "      <th>7</th>\n",
       "      <td>173.0</td>\n",
       "      <td>62.0</td>\n",
       "    </tr>\n",
       "    <tr>\n",
       "      <th>8</th>\n",
       "      <td>170.0</td>\n",
       "      <td>70.0</td>\n",
       "    </tr>\n",
       "    <tr>\n",
       "      <th>9</th>\n",
       "      <td>167.0</td>\n",
       "      <td>74.0</td>\n",
       "    </tr>\n",
       "  </tbody>\n",
       "</table>\n",
       "</div>"
      ],
      "text/plain": [
       "       0     1\n",
       "0  161.0  62.0\n",
       "1  173.0  66.0\n",
       "2  167.0  70.0\n",
       "3  170.0  70.0\n",
       "4  170.0  66.0\n",
       "5  176.0  70.0\n",
       "6  170.0  78.0\n",
       "7  173.0  62.0\n",
       "8  170.0  70.0\n",
       "9  167.0  74.0"
      ]
     },
     "execution_count": 35,
     "metadata": {},
     "output_type": "execute_result"
    }
   ],
   "source": [
    "n_samples=10\n",
    "height = 3*np.random.randn(n_samples).round() + 170  ##약 167~173  : 키\n",
    "weight = 4*np.random.randn(n_samples).round() + 70   ##약 66~74  : 몸무게\n",
    "X = pd.DataFrame(list(zip(height, weight))); X.head(10)"
   ]
  },
  {
   "cell_type": "code",
   "execution_count": 34,
   "id": "3250ec39",
   "metadata": {},
   "outputs": [
    {
     "data": {
      "text/plain": [
       "array([[ 0.91287093,  0.        ],\n",
       "       [ 0.        ,  0.        ],\n",
       "       [-1.82574186,  0.        ],\n",
       "       [ 0.        ,  0.        ],\n",
       "       [ 1.82574186,  1.58113883],\n",
       "       [ 0.        , -1.58113883],\n",
       "       [ 0.        ,  1.58113883],\n",
       "       [-0.91287093,  0.        ],\n",
       "       [-0.91287093, -1.58113883],\n",
       "       [ 0.91287093,  0.        ]])"
      ]
     },
     "execution_count": 34,
     "metadata": {},
     "output_type": "execute_result"
    }
   ],
   "source": [
    "from sklearn.preprocessing import StandardScaler\n",
    "X_std = StandardScaler().fit_transform(X); X_std  ##\n",
    "## (1)객체생성().(2)fit-형식맞추기 (3)transform() ()의값을 (1)(2)에 맞게 변형       "
   ]
  },
  {
   "cell_type": "code",
   "execution_count": 36,
   "id": "20597851",
   "metadata": {},
   "outputs": [
    {
     "data": {
      "text/plain": [
       "array([[161.,  62.],\n",
       "       [173.,  66.],\n",
       "       [167.,  70.],\n",
       "       [170.,  70.],\n",
       "       [170.,  66.],\n",
       "       [176.,  70.],\n",
       "       [170.,  78.],\n",
       "       [173.,  62.],\n",
       "       [170.,  70.],\n",
       "       [167.,  74.]])"
      ]
     },
     "execution_count": 36,
     "metadata": {},
     "output_type": "execute_result"
    }
   ],
   "source": [
    "x = X.values; x  ## 배열"
   ]
  },
  {
   "cell_type": "code",
   "execution_count": 37,
   "id": "e3dc3df6",
   "metadata": {},
   "outputs": [
    {
     "data": {
      "text/plain": [
       "array([[-2.23076923, -1.43165827],\n",
       "       [ 0.84615385, -0.58950634],\n",
       "       [-0.69230769,  0.25264558],\n",
       "       [ 0.07692308,  0.25264558],\n",
       "       [ 0.07692308, -0.58950634],\n",
       "       [ 1.61538462,  0.25264558],\n",
       "       [ 0.07692308,  1.93694942],\n",
       "       [ 0.84615385, -1.43165827],\n",
       "       [ 0.07692308,  0.25264558],\n",
       "       [-0.69230769,  1.0947975 ]])"
      ]
     },
     "execution_count": 37,
     "metadata": {},
     "output_type": "execute_result"
    }
   ],
   "source": [
    "x_std = StandardScaler().fit_transform(x); x_std ##"
   ]
  },
  {
   "cell_type": "code",
   "execution_count": null,
   "id": "6595b162",
   "metadata": {},
   "outputs": [],
   "source": [
    "from sklearn.preprocessing import *"
   ]
  },
  {
   "cell_type": "code",
   "execution_count": null,
   "id": "06b59a41",
   "metadata": {},
   "outputs": [],
   "source": [
    "from sklearn.preprocessing import StandardScaler\n",
    "X_std = StandardScaler().fit_transform(X); X_std"
   ]
  },
  {
   "cell_type": "code",
   "execution_count": 20,
   "id": "0fca7afe",
   "metadata": {},
   "outputs": [
    {
     "data": {
      "text/plain": [
       "array([[0.33333333, 0.66666667],\n",
       "       [0.        , 0.        ],\n",
       "       [0.66666667, 0.66666667],\n",
       "       [1.        , 0.33333333],\n",
       "       [1.        , 0.66666667],\n",
       "       [1.        , 1.        ],\n",
       "       [0.66666667, 0.        ],\n",
       "       [0.        , 0.33333333],\n",
       "       [0.66666667, 0.33333333],\n",
       "       [0.66666667, 0.33333333]])"
      ]
     },
     "execution_count": 20,
     "metadata": {},
     "output_type": "execute_result"
    }
   ],
   "source": [
    "from sklearn.preprocessing import MinMaxScaler\n",
    "X_std2 = MinMaxScaler().fit_transform(X); X_std2"
   ]
  },
  {
   "cell_type": "code",
   "execution_count": 21,
   "id": "8bb54bf7",
   "metadata": {},
   "outputs": [
    {
     "data": {
      "text/plain": [
       "array([[0.96531792, 0.94871795],\n",
       "       [0.94797688, 0.84615385],\n",
       "       [0.98265896, 0.94871795],\n",
       "       [1.        , 0.8974359 ],\n",
       "       [1.        , 0.94871795],\n",
       "       [1.        , 1.        ],\n",
       "       [0.98265896, 0.84615385],\n",
       "       [0.94797688, 0.8974359 ],\n",
       "       [0.98265896, 0.8974359 ],\n",
       "       [0.98265896, 0.8974359 ]])"
      ]
     },
     "execution_count": 21,
     "metadata": {},
     "output_type": "execute_result"
    }
   ],
   "source": [
    "from sklearn.preprocessing import MaxAbsScaler\n",
    "X_std3 = MaxAbsScaler().fit_transform(X); X_std3 "
   ]
  },
  {
   "cell_type": "code",
   "execution_count": 24,
   "id": "432685b6",
   "metadata": {},
   "outputs": [
    {
     "data": {
      "text/plain": [
       "array([[-0.66666667,  1.        ],\n",
       "       [-1.33333333, -1.        ],\n",
       "       [ 0.        ,  1.        ],\n",
       "       [ 0.66666667,  0.        ],\n",
       "       [ 0.66666667,  1.        ],\n",
       "       [ 0.66666667,  2.        ],\n",
       "       [ 0.        , -1.        ],\n",
       "       [-1.33333333,  0.        ],\n",
       "       [ 0.        ,  0.        ],\n",
       "       [ 0.        ,  0.        ]])"
      ]
     },
     "execution_count": 24,
     "metadata": {},
     "output_type": "execute_result"
    }
   ],
   "source": [
    "from sklearn.preprocessing import RobustScaler\n",
    "X_std4 = RobustScaler().fit_transform(X); X_std4"
   ]
  },
  {
   "cell_type": "code",
   "execution_count": 26,
   "id": "7e789230",
   "metadata": {},
   "outputs": [],
   "source": [
    "df = pd.DataFrame({\n",
    "    'x1': np.random.normal(0, 2,  10000),\n",
    "    'x2': np.random.normal(5, 3,  10000),\n",
    "    'x3': np.random.normal(-5, 5, 10000)\n",
    "})\n",
    "#df"
   ]
  },
  {
   "cell_type": "code",
   "execution_count": 27,
   "id": "9e58c803",
   "metadata": {},
   "outputs": [
    {
     "data": {
      "text/plain": [
       "<AxesSubplot:ylabel='Density'>"
      ]
     },
     "execution_count": 27,
     "metadata": {},
     "output_type": "execute_result"
    },
    {
     "data": {
      "image/png": "[encoded data removed]",
      "text/plain": [
       "<Figure size 432x288 with 1 Axes>"
      ]
     },
     "metadata": {
      "needs_background": "light"
     },
     "output_type": "display_data"
    }
   ],
   "source": [
    "df.plot.kde()"
   ]
  },
  {
   "cell_type": "code",
   "execution_count": 29,
   "id": "10186fa6",
   "metadata": {},
   "outputs": [],
   "source": [
    "standardscaler = StandardScaler()\n",
    "data_tf = standardscaler.fit_transform(df)\n",
    "##data_tf : 표준스케일링이 된 객체 -- 판다스X\n",
    "## data_tf = StandardScaler().fit_transform(X)\n",
    "#data_tf"
   ]
  },
  {
   "cell_type": "code",
   "execution_count": 31,
   "id": "fa0ca4b1",
   "metadata": {},
   "outputs": [],
   "source": [
    "##data_tf.plot.kde()   plot.kde() : 반드시 판다스에서만 적용이 됨"
   ]
  },
  {
   "cell_type": "code",
   "execution_count": 32,
   "id": "3d8908e1",
   "metadata": {},
   "outputs": [
    {
     "data": {
      "text/plain": [
       "<AxesSubplot:ylabel='Density'>"
      ]
     },
     "execution_count": 32,
     "metadata": {},
     "output_type": "execute_result"
    },
    {
     "data": {
      "image/png": "[encoded data removed]",
      "text/plain": [
       "<Figure size 432x288 with 1 Axes>"
      ]
     },
     "metadata": {
      "needs_background": "light"
     },
     "output_type": "display_data"
    }
   ],
   "source": [
    "df = pd.DataFrame(data_tf, columns=['x1','x2','x3'])  \n",
    "  ##그래서 data_tf를 판다스로 변경\n",
    "df.plot.kde()"
   ]
  },
  {
   "cell_type": "code",
   "execution_count": null,
   "id": "f017e16e",
   "metadata": {},
   "outputs": [],
   "source": []
  }
 ],
 "metadata": {
  "kernelspec": {
   "display_name": "Python 3",
   "language": "python",
   "name": "python3"
  },
  "language_info": {
   "codemirror_mode": {
    "name": "ipython",
    "version": 3
   },
   "file_extension": ".py",
   "mimetype": "text/x-python",
   "name": "python",
   "nbconvert_exporter": "python",
   "pygments_lexer": "ipython3",
   "version": "3.8.8"
  }
 },
 "nbformat": 4,
 "nbformat_minor": 5
}
