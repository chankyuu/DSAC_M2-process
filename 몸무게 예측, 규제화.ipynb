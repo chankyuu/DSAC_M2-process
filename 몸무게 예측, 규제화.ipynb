{
 "cells": [
  {
   "cell_type": "code",
   "execution_count": null,
   "id": "783dcb6f",
   "metadata": {},
   "outputs": [],
   "source": [
    "import pandas as pd\n",
    "import numpy as np\n",
    "import matplotlib.pyplot as plt\n",
    "from sklearn import *\n",
    "from sklearn import datasets \n",
    "from sklearn.model_selection import *\n",
    "from sklearn.linear_model import *\n",
    "%matplotlib inline\n",
    "%config InlineBackend.figure_format = 'retina'"
   ]
  },
  {
   "cell_type": "markdown",
   "id": "a454fab7",
   "metadata": {},
   "source": [
    "## 몸무게 예측"
   ]
  },
  {
   "cell_type": "code",
   "execution_count": null,
   "id": "37df736b",
   "metadata": {},
   "outputs": [],
   "source": [
    "n_samples = 1000\n",
    "x1 = 3*np.random.randn(n_samples) + 170  # 남자 키\n",
    "y1 = 2*x1 - 270 + 2*np.random.randn(n_samples) # 남자 몸무게\n",
    "\n",
    "x2 = 2*np.random.randn(n_samples) + 160  # 여자\n",
    "y2 = 1*x2 - 100 + np.random.randn(n_samples) \n",
    "\n",
    "plt.hist(x1, bins=30)\n",
    "plt.hist(x2, bins=30)\n",
    "\n",
    "plt.hist(y1, bins=30)\n",
    "plt.hist(y2, bins=30)\n",
    "plt.show()"
   ]
  },
  {
   "cell_type": "code",
   "execution_count": null,
   "id": "6d5d365c",
   "metadata": {},
   "outputs": [],
   "source": [
    "# 남자데이터만\n",
    "X_train, X_test, y_train, y_test = train_test_split(x1, y1, test_size=0.2)\n",
    "# train_test_split : 기존 데이터의 x,y훈련용과 x,y검증용 데이터를 나누는것 \n",
    "leg1 = LinearRegression()\n",
    "leg1.fit(X_train.reshape(-1,1), y_train)  ## 선형회귀 모델\n",
    "\n",
    "print(leg1.coef_)\n",
    "print(leg1.intercept_)\n",
    "print(leg1.score(X_test.reshape(-1,1), y_test))"
   ]
  },
  {
   "cell_type": "code",
   "execution_count": null,
   "id": "a1f89870",
   "metadata": {},
   "outputs": [],
   "source": [
    "xs = np.linspace(158,180,10)\n",
    "ys = xs * leg1.coef_[0] + leg1.intercept_\n",
    "plt.scatter(x1, y1, s=0.5)\n",
    "plt.plot(xs, ys, c='r')"
   ]
  },
  {
   "cell_type": "code",
   "execution_count": null,
   "id": "a5cad4bd",
   "metadata": {},
   "outputs": [],
   "source": [
    "# 여자데이터만\n",
    "X_train, X_test, y_train, y_test = train_test_split(x2, y2, test_size=0.2)\n",
    "# train_test_split : 기존 데이터의 x,y훈련용과 x,y검증용 데이터를 나누는것 \n",
    "leg1 = LinearRegression()\n",
    "leg1.fit(X_train.reshape(-1,1), y_train)  ## 선형회귀 모델\n",
    "\n",
    "print(leg1.coef_)\n",
    "print(leg1.intercept_)\n",
    "print(leg1.score(X_test.reshape(-1,1), y_test))"
   ]
  },
  {
   "cell_type": "code",
   "execution_count": null,
   "id": "5dd9c3ed",
   "metadata": {
    "scrolled": true
   },
   "outputs": [],
   "source": [
    "xs = np.linspace(158,180,10)\n",
    "ys = xs * leg1.coef_[0] + leg1.intercept_\n",
    "plt.scatter(x1, y1, s=0.5)\n",
    "plt.plot(xs, ys, c='r')"
   ]
  },
  {
   "cell_type": "code",
   "execution_count": null,
   "id": "ee7836ed",
   "metadata": {},
   "outputs": [],
   "source": [
    "from sklearn.datasets import make_regression\n",
    "X,Y = make_regression(n_features=1, noise=10, n_samples=1000)\n",
    "## 회귀분석용 가상 데이터를 만들기"
   ]
  },
  {
   "cell_type": "code",
   "execution_count": null,
   "id": "72474ef8",
   "metadata": {},
   "outputs": [],
   "source": [
    "plt.xlabel('Feature - X')\n",
    "plt.ylabel('Target - Y')\n",
    "plt.scatter(X,Y,s=5)"
   ]
  },
  {
   "cell_type": "code",
   "execution_count": null,
   "id": "b5e3e341",
   "metadata": {},
   "outputs": [],
   "source": [
    "lr = LinearRegression()\n",
    "lr.fit(X,Y)\n",
    "lr.coef_, lr.intercept_"
   ]
  },
  {
   "cell_type": "code",
   "execution_count": null,
   "id": "2faa4fc3",
   "metadata": {},
   "outputs": [],
   "source": [
    "pred = lr.predict(X)"
   ]
  },
  {
   "cell_type": "code",
   "execution_count": null,
   "id": "847e6bf9",
   "metadata": {},
   "outputs": [],
   "source": [
    "plt.scatter(X, Y,s=5, label='training')\n",
    "plt.scatter(X, pred,s=5, label='prediction')\n",
    "plt.xlabel('Feature - X')\n",
    "plt.ylabel('Target - Y')\n",
    "plt.legend()\n",
    "plt.show()"
   ]
  },
  {
   "cell_type": "markdown",
   "id": "cbb48937",
   "metadata": {},
   "source": [
    "# 규제화"
   ]
  },
  {
   "cell_type": "code",
   "execution_count": null,
   "id": "508abd6f",
   "metadata": {},
   "outputs": [],
   "source": [
    "from sklearn.linear_model import Ridge\n",
    "ridge = Ridge(alpha=.1)\n",
    "ridge.fit( [[0, 0], [0, 0], [1, 1]],  [0, .1, 1] )\n",
    "lr = LinearRegression()\n",
    "lr.fit( [[0, 0], [0, 0], [1, 1]],  [0, .1, 1] )\n",
    "ridge.coef_ , lr.coef_"
   ]
  },
  {
   "cell_type": "code",
   "execution_count": null,
   "id": "0949e211",
   "metadata": {},
   "outputs": [],
   "source": [
    "outliers = Y[950:] - 600\n",
    "Y_Out = np.append(Y[:950],outliers)\n",
    "plt.scatter(X,Y_Out,s=5)"
   ]
  },
  {
   "cell_type": "code",
   "execution_count": null,
   "id": "5d56ccda",
   "metadata": {},
   "outputs": [],
   "source": [
    "lr = LinearRegression()\n",
    "lr.fit(X,Y_Out)\n",
    "pred_Out = lr.predict(X)"
   ]
  },
  {
   "cell_type": "code",
   "execution_count": null,
   "id": "2c4a0440",
   "metadata": {},
   "outputs": [],
   "source": [
    "plt.scatter(X,Y_Out,s=5,label='actual')\n",
    "plt.scatter(X,pred_Out,s=5,label='prediction with outliers')\n",
    "plt.scatter(X,pred,s=5,c='k', label='prediction without outlier')\n",
    "plt.legend()\n",
    "plt.title('Linear Regression')"
   ]
  },
  {
   "cell_type": "code",
   "execution_count": null,
   "id": "8c36cc2c",
   "metadata": {},
   "outputs": [],
   "source": [
    "ridge = Ridge(alpha=1000)\n",
    "ridge.fit(X,Y_Out)\n",
    "pred_ridge = ridge.predict(X)"
   ]
  },
  {
   "cell_type": "code",
   "execution_count": null,
   "id": "92fb2c38",
   "metadata": {},
   "outputs": [],
   "source": []
  },
  {
   "cell_type": "code",
   "execution_count": null,
   "id": "ed710ba5",
   "metadata": {},
   "outputs": [],
   "source": []
  }
 ],
 "metadata": {
  "kernelspec": {
   "display_name": "Python 3",
   "language": "python",
   "name": "python3"
  },
  "language_info": {
   "codemirror_mode": {
    "name": "ipython",
    "version": 3
   },
   "file_extension": ".py",
   "mimetype": "text/x-python",
   "name": "python",
   "nbconvert_exporter": "python",
   "pygments_lexer": "ipython3",
   "version": "3.8.8"
  }
 },
 "nbformat": 4,
 "nbformat_minor": 5
}
